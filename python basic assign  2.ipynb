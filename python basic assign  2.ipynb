{
 "cells": [
  {
   "cell_type": "markdown",
   "id": "90f48e42",
   "metadata": {},
   "source": [
    "## Assignments 2 Solutions\n",
    "\n",
    "### 1.what is the two values of the boolean data types? how do write them?\n",
    "#### Ans:\n",
    "     True and False are two values of the boolen data types. We have to use capital T and F and with the rest of the word        in lowercase"
   ]
  },
  {
   "cell_type": "code",
   "execution_count": 4,
   "id": "daa9306d",
   "metadata": {},
   "outputs": [
    {
     "name": "stdout",
     "output_type": "stream",
     "text": [
      "True <class 'bool'>\n",
      "False <class 'bool'>\n"
     ]
    }
   ],
   "source": [
    "a=True\n",
    "b=False\n",
    "print(a,type(a))\n",
    "print(b,type(b))"
   ]
  },
  {
   "cell_type": "markdown",
   "id": "4420b69d",
   "metadata": {},
   "source": [
    "### 2. What are the three different types of Boolean operators?\n",
    "#### Ans:\n",
    "     The three differnt types of Boolean operators in python are: or and not"
   ]
  },
  {
   "cell_type": "code",
   "execution_count": 5,
   "id": "9a68f883",
   "metadata": {},
   "outputs": [
    {
     "name": "stdout",
     "output_type": "stream",
     "text": [
      "True\n",
      "True\n",
      "False\n"
     ]
    }
   ],
   "source": [
    "a=100\n",
    "b=200\n",
    "print(a>50 and b>100) # Example of boolean and\n",
    "print(a>200 or b>100) # Example of boolean or\n",
    "print(not(a>10)) # Example of boolean not~"
   ]
  },
  {
   "cell_type": "markdown",
   "id": "4099caf0",
   "metadata": {},
   "source": [
    "### 3. Make a list of each Boolean operator's truth tables (i.e. every possible combination of Boolean values for the operator and what it evaluate) ?\n",
    "#### Ans:\n",
    "      The Truth tables for the boolean tables are as follows:\n",
    "     \n",
    "#### Truth Table for and operaotor \n",
    "      True and True is True\n",
    "      True and False is False\n",
    "      False and True is False\n",
    "      False and False is False\n",
    "      \n",
    "#### Truth Table for or operaotor\n",
    "      True and True is True\n",
    "      True and False is True\n",
    "      False and True is True\n",
    "      False and False is False \n",
    "      \n",
    "#### Truth Table for not operaotor\n",
    "      True not is False False not is True\n",
    "      \n",
    "          "
   ]
  },
  {
   "cell_type": "markdown",
   "id": "34773073",
   "metadata": {},
   "source": [
    "### 4. What are the values of the following expressions ?\n",
    "### Ans:\n",
    "     (5 > 4) and (3 == 5)\n",
    "      not (5 > 4)\n",
    "     (5 > 4) or (3 == 5)\n",
    "      not ((5 > 4) or (3 == 5))\n",
    "     (True and True) and (True == False)\n",
    "     (not False) or (not True)"
   ]
  },
  {
   "cell_type": "code",
   "execution_count": 6,
   "id": "1f6acb25",
   "metadata": {},
   "outputs": [
    {
     "name": "stdout",
     "output_type": "stream",
     "text": [
      "False\n",
      "False\n",
      "True\n",
      "False\n",
      "False\n",
      "True\n"
     ]
    }
   ],
   "source": [
    "print((5>4)and(3==5)) # False\n",
    "print(not(5>4)) # False\n",
    "print((5>4)or(3==5)) # True\n",
    "print(not((5>4)or(3==5))) # False\n",
    "print((True and True)and(True==False)) # False\n",
    "print((not False)or(not True)) # True"
   ]
  },
  {
   "cell_type": "markdown",
   "id": "0155fc3d",
   "metadata": {},
   "source": [
    "### 5. what are the six comparision operators?\n",
    "#### Ans:\n",
    "      The Six comparision operators available in python are:\n",
    "      == , != , < , > , <= , =>\n",
    "      "
   ]
  },
  {
   "cell_type": "markdown",
   "id": "3f659302",
   "metadata": {},
   "source": [
    "### 6. How do you tell the difference between the equal to and assignment operators?Describe a condition and when you would use one ?\n",
    "#### Ans:\n",
    "     == is the equal to operator that compares two values and evaluates to a Boolean, \n",
    "     while = is that assignment operator that stores a value in a variable."
   ]
  },
  {
   "cell_type": "code",
   "execution_count": 1,
   "id": "e9c18d07",
   "metadata": {},
   "outputs": [
    {
     "name": "stdout",
     "output_type": "stream",
     "text": [
      "True\n"
     ]
    }
   ],
   "source": [
    "a=3 # Assigning operator that stores 3 value in a variable a\n",
    "if a==3:#comparing values of a varible value and 3\n",
    "    print(a==3)  "
   ]
  },
  {
   "cell_type": "markdown",
   "id": "236b375b",
   "metadata": {},
   "source": [
    "### 7. Identify the three blocks in this code:\n",
    "    spam = 0\n",
    "    if spam == 10:\n",
    "    print('eggs')\n",
    "    if spam > 5:\n",
    "    print('bacon')\n",
    "    else:\n",
    "    print('ham')\n",
    "    print('spam')\n",
    "    print('spam')\n",
    "\n",
    "#### Ans:\n",
    "    In Python, code block refers to a collection of code that is in the same block or indent. This is most commonly found         in classes,functions, and loops."
   ]
  },
  {
   "cell_type": "code",
   "execution_count": 2,
   "id": "e37ba0c5",
   "metadata": {},
   "outputs": [
    {
     "name": "stdout",
     "output_type": "stream",
     "text": [
      "ham\n",
      "spam\n",
      "spam\n"
     ]
    }
   ],
   "source": [
    "spam = 0  \n",
    "if spam == 10:  \n",
    "    print('eggs')  # block #1\n",
    "if spam > 5:  \n",
    "    print('bacon')  # block #2\n",
    "else:  \n",
    "    print('ham')  # block #3\n",
    "print('spam')  \n",
    "print('spam')"
   ]
  },
  {
   "cell_type": "markdown",
   "id": "8f72dfcc",
   "metadata": {},
   "source": [
    "### 8. Write code that prints Hello if 1 is stored in spam, prints Howdy if 2 is stored in spam, and prints Greetings! if anything else is stored in spam."
   ]
  },
  {
   "cell_type": "code",
   "execution_count": 3,
   "id": "a8ac4a55",
   "metadata": {},
   "outputs": [
    {
     "name": "stdout",
     "output_type": "stream",
     "text": [
      "Hello\n",
      "Howdy\n",
      "Greetings\n"
     ]
    }
   ],
   "source": [
    "def spamCode(spam):\n",
    "    if spam==1:\n",
    "        print('Hello')\n",
    "    elif spam==2:\n",
    "        print('Howdy')\n",
    "    else:\n",
    "        print('Greetings')\n",
    "        \n",
    "spamCode(1) \n",
    "spamCode(2)\n",
    "spamCode(3)"
   ]
  },
  {
   "cell_type": "markdown",
   "id": "8a88fa27",
   "metadata": {},
   "source": [
    "### 9.If your programme is stuck in an endless loop, what keys you’ll press?\n",
    "#### Ans: \n",
    "     Press Ctrl-c to stop a program stuck in an infinite loop"
   ]
  },
  {
   "cell_type": "markdown",
   "id": "1bc7ba87",
   "metadata": {},
   "source": [
    "### 10. How can you tell the difference between break and continue?\n",
    "#### Ans:\n",
    "    The break statement will move the execution outside the loop if break condtion is satisfied. Whereas the continue statement will move the execution to the start of the loop."
   ]
  },
  {
   "cell_type": "markdown",
   "id": "407839f0",
   "metadata": {},
   "source": [
    "### 11. In a for loop, what is the difference between range(10), range(0, 10), and range(0, 10, 1)?\n",
    "#### Ans: \n",
    "     The differance are as follows:\n",
    "     \n",
    "      1.The range(10) call range from 0 to 9 (but not include 10)\n",
    "      2.The range (0,10) explicitly tells the loop to start at 0\n",
    "      3.The range(0,10,1) explicitly tells the loop to increase the \n",
    "        variable by 1 on each iteration"
   ]
  },
  {
   "cell_type": "markdown",
   "id": "9929fd23",
   "metadata": {},
   "source": [
    "###  12. Write a short program that prints the numbers 1 to 10 using a for loop. Then write an equivalent program that prints the numbers 1 to 10 using a while loop ?\n",
    "#### Ans:"
   ]
  },
  {
   "cell_type": "code",
   "execution_count": 4,
   "id": "eeec09d7",
   "metadata": {},
   "outputs": [
    {
     "name": "stdout",
     "output_type": "stream",
     "text": [
      "---------- Using For Loop ----------\n",
      "1 2 3 4 5 6 7 8 9 10 \n",
      "\n",
      "---------- Using While Loop ----------\n",
      "1 2 3 4 5 6 7 8 9 10 "
     ]
    }
   ],
   "source": [
    "print('-'*10,'Using For Loop','-'*10)\n",
    "for i in range(1,11):\n",
    "    print(i, end=\" \")\n",
    "print('\\n')\n",
    "print('-'*10,'Using While Loop','-'*10) \n",
    "i=1\n",
    "while i<=10:\n",
    "    print(i, end=\" \")\n",
    "    i+=1"
   ]
  },
  {
   "cell_type": "markdown",
   "id": "cf2587a6",
   "metadata": {},
   "source": [
    "###  13. If you had a function named bacon() inside a module named spam, how would you call it after importing spam ?\n",
    "#### Ans:\n",
    "     This function can be called with spam.bacon()"
   ]
  }
 ],
 "metadata": {
  "kernelspec": {
   "display_name": "Python 3 (ipykernel)",
   "language": "python",
   "name": "python3"
  },
  "language_info": {
   "codemirror_mode": {
    "name": "ipython",
    "version": 3
   },
   "file_extension": ".py",
   "mimetype": "text/x-python",
   "name": "python",
   "nbconvert_exporter": "python",
   "pygments_lexer": "ipython3",
   "version": "3.9.7"
  }
 },
 "nbformat": 4,
 "nbformat_minor": 5
}
